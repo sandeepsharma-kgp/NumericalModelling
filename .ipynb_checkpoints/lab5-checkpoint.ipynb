{
 "cells": [
  {
   "cell_type": "code",
   "execution_count": 2,
   "metadata": {
    "collapsed": true
   },
   "outputs": [],
   "source": [
    "import numpy as np"
   ]
  },
  {
   "cell_type": "code",
   "execution_count": 3,
   "metadata": {
    "collapsed": true
   },
   "outputs": [],
   "source": [
    "def graph(price):\n",
    "    if price<4000:\n",
    "        return [1.,0.,0.]\n",
    "    elif price>=4000 and price<18000:\n",
    "        return [((18000.-price)/14000.),(price-4000.)/14000.,0]\n",
    "    elif price>=18000 and price<40000:\n",
    "        return [0,((40000.-price)/22000.),(price-18000.)/22000.]\n",
    "    else:\n",
    "        return [0,0,1]"
   ]
  },
  {
   "cell_type": "code",
   "execution_count": 4,
   "metadata": {
    "scrolled": true
   },
   "outputs": [
    {
     "data": {
      "text/plain": [
       "[0, 0.9545454545454546, 0.045454545454545456]"
      ]
     },
     "execution_count": 4,
     "metadata": {},
     "output_type": "execute_result"
    }
   ],
   "source": [
    "graph(19000)"
   ]
  },
  {
   "cell_type": "code",
   "execution_count": 5,
   "metadata": {
    "scrolled": true
   },
   "outputs": [
    {
     "name": "stdout",
     "output_type": "stream",
     "text": [
      "Enter car price: 5600\n"
     ]
    }
   ],
   "source": [
    "price = int(input(\"Enter car price: \"))"
   ]
  },
  {
   "cell_type": "code",
   "execution_count": 6,
   "metadata": {
    "collapsed": true
   },
   "outputs": [],
   "source": [
    "price_rel = np.vstack(graph(price))"
   ]
  },
  {
   "cell_type": "code",
   "execution_count": 7,
   "metadata": {
    "collapsed": true
   },
   "outputs": [],
   "source": [
    "c_i_rel = np.matrix([[0.6,0.3,0.3],\n",
    "                  [0.3,0.8,0.3],\n",
    "                  [0.1,0.3,0.7]])"
   ]
  },
  {
   "cell_type": "code",
   "execution_count": 8,
   "metadata": {
    "collapsed": true
   },
   "outputs": [],
   "source": [
    "i_m_rel = np.matrix([[0.,0.3,1.],\n",
    "                  [0.2,0.6,0.5],\n",
    "                  [0.8,0.4,0.4]])"
   ]
  },
  {
   "cell_type": "code",
   "execution_count": 9,
   "metadata": {},
   "outputs": [
    {
     "data": {
      "text/plain": [
       "matrix([[ 0.6],\n",
       "        [ 0.3],\n",
       "        [ 0.1]])"
      ]
     },
     "execution_count": 9,
     "metadata": {},
     "output_type": "execute_result"
    }
   ],
   "source": [
    "c_i_rel[:,0]"
   ]
  },
  {
   "cell_type": "code",
   "execution_count": 10,
   "metadata": {},
   "outputs": [
    {
     "data": {
      "text/plain": [
       "array([[ 0.88571429],\n",
       "       [ 0.11428571],\n",
       "       [ 0.        ]])"
      ]
     },
     "execution_count": 10,
     "metadata": {},
     "output_type": "execute_result"
    }
   ],
   "source": [
    "price_rel"
   ]
  },
  {
   "cell_type": "code",
   "execution_count": 12,
   "metadata": {},
   "outputs": [],
   "source": [
    "income = []\n",
    "for i in range(3):\n",
    "    income.append(np.max(np.minimum(c_i_rel[:,i],price_rel)))"
   ]
  },
  {
   "cell_type": "code",
   "execution_count": 14,
   "metadata": {},
   "outputs": [],
   "source": [
    "income = np.vstack(income)"
   ]
  },
  {
   "cell_type": "code",
   "execution_count": 15,
   "metadata": {},
   "outputs": [
    {
     "data": {
      "text/plain": [
       "array([[ 0.6],\n",
       "       [ 0.3],\n",
       "       [ 0.3]])"
      ]
     },
     "execution_count": 15,
     "metadata": {},
     "output_type": "execute_result"
    }
   ],
   "source": [
    "income"
   ]
  },
  {
   "cell_type": "code",
   "execution_count": 16,
   "metadata": {
    "collapsed": true
   },
   "outputs": [],
   "source": [
    "mortgage = []\n",
    "for i in range(3):\n",
    "    mortgage.append(np.max(np.minimum(i_m_rel[:,i],income)))"
   ]
  },
  {
   "cell_type": "code",
   "execution_count": 17,
   "metadata": {
    "collapsed": true
   },
   "outputs": [],
   "source": [
    "mortgage = np.vstack(mortgage)"
   ]
  },
  {
   "cell_type": "code",
   "execution_count": 18,
   "metadata": {},
   "outputs": [
    {
     "data": {
      "text/plain": [
       "array([[ 0.3],\n",
       "       [ 0.3],\n",
       "       [ 0.6]])"
      ]
     },
     "execution_count": 18,
     "metadata": {},
     "output_type": "execute_result"
    }
   ],
   "source": [
    "mortgage"
   ]
  },
  {
   "cell_type": "code",
   "execution_count": 19,
   "metadata": {},
   "outputs": [
    {
     "data": {
      "text/plain": [
       "2"
      ]
     },
     "execution_count": 19,
     "metadata": {},
     "output_type": "execute_result"
    }
   ],
   "source": [
    "np.argmax(mortgage)"
   ]
  },
  {
   "cell_type": "code",
   "execution_count": 27,
   "metadata": {},
   "outputs": [
    {
     "name": "stdout",
     "output_type": "stream",
     "text": [
      "Enter car price of person 1: 1234\n",
      "Enter car price of person 2: 2345\n",
      "Enter car price of person 3: 34567\n"
     ]
    }
   ],
   "source": [
    "import numpy as np\n",
    "\n",
    "\n",
    "def fuzzy(price):\n",
    "    if price < 4000:\n",
    "        return [1., 0., 0.]\n",
    "    elif price >= 4000 and price < 18000:\n",
    "        return [((18000. - price) / 14000.), (price - 4000.) / 14000., 0]\n",
    "    elif price >= 18000 and price < 40000:\n",
    "        return [0, ((40000. - price) / 22000.), (price - 18000.) / 22000.]\n",
    "    else:\n",
    "        return [0, 0, 1]\n",
    "\n",
    "price = []\n",
    "for i in range(1, 4):\n",
    "    price.append(int(raw_input(\"Enter car price of person {}: \".format(i))))\n",
    "\n",
    "price_rel = []\n",
    "for i in range(3):\n",
    "    price_rel.append(np.vstack(fuzzy(price[i])))\n",
    "\n",
    "#### car price and income relationship ##############\n",
    "c_i_rel = np.matrix([[0.6, 0.3, 0.3],\n",
    "                     [0.3, 0.8, 0.3],\n",
    "                     [0.1, 0.3, 0.7]])\n",
    "\n",
    "#### income and mortgage relationship ##############\n",
    "\n",
    "i_m_rel = np.matrix([[0., 0.3, 1.],\n",
    "                     [0.2, 0.6, 0.5],\n",
    "                     [0.8, 0.4, 0.4]])\n",
    "\n",
    "income = [[] for i in range(3)]\n",
    "for j in range(3):\n",
    "\tfor i in range(3):\n",
    "\t    income[j].append(np.max(np.minimum(c_i_rel[:,i],price_rel[j])))"
   ]
  },
  {
   "cell_type": "code",
   "execution_count": 28,
   "metadata": {},
   "outputs": [
    {
     "data": {
      "text/plain": [
       "[[0.59999999999999998, 0.29999999999999999, 0.29999999999999999],\n",
       " [0.59999999999999998, 0.29999999999999999, 0.29999999999999999],\n",
       " [0.24695454545454545, 0.29999999999999999, 0.69999999999999996]]"
      ]
     },
     "execution_count": 28,
     "metadata": {},
     "output_type": "execute_result"
    }
   ],
   "source": [
    "income"
   ]
  },
  {
   "cell_type": "code",
   "execution_count": 29,
   "metadata": {
    "collapsed": true
   },
   "outputs": [],
   "source": [
    "income = np.vstack(income)"
   ]
  },
  {
   "cell_type": "code",
   "execution_count": 30,
   "metadata": {},
   "outputs": [
    {
     "data": {
      "text/plain": [
       "array([[ 0.6       ,  0.3       ,  0.3       ],\n",
       "       [ 0.6       ,  0.3       ,  0.3       ],\n",
       "       [ 0.24695455,  0.3       ,  0.7       ]])"
      ]
     },
     "execution_count": 30,
     "metadata": {},
     "output_type": "execute_result"
    }
   ],
   "source": [
    "income"
   ]
  },
  {
   "cell_type": "code",
   "execution_count": 31,
   "metadata": {},
   "outputs": [
    {
     "data": {
      "text/plain": [
       "array([[ 1.],\n",
       "       [ 0.],\n",
       "       [ 0.]])"
      ]
     },
     "execution_count": 31,
     "metadata": {},
     "output_type": "execute_result"
    }
   ],
   "source": [
    "price_rel[0]"
   ]
  },
  {
   "cell_type": "code",
   "execution_count": 33,
   "metadata": {},
   "outputs": [],
   "source": [
    "mortgage = [[] for i in range(3)]\n",
    "for j in range(3):\n",
    "\tfor i in range(3):\n",
    "\t    mortgage[j].append(np.max(np.minimum(i_m_rel[:,i],income[j])))"
   ]
  },
  {
   "cell_type": "code",
   "execution_count": 34,
   "metadata": {},
   "outputs": [
    {
     "data": {
      "text/plain": [
       "[[0.59999999999999998, 0.59999999999999998, 0.59999999999999998],\n",
       " [0.59999999999999998, 0.59999999999999998, 0.59999999999999998],\n",
       " [0.69999999999999996, 0.59999999999999998, 0.69999999999999996]]"
      ]
     },
     "execution_count": 34,
     "metadata": {},
     "output_type": "execute_result"
    }
   ],
   "source": [
    "mortgage"
   ]
  },
  {
   "cell_type": "code",
   "execution_count": 35,
   "metadata": {
    "collapsed": true
   },
   "outputs": [],
   "source": [
    "mortgage = np.vstack(mortgage)"
   ]
  },
  {
   "cell_type": "code",
   "execution_count": 36,
   "metadata": {},
   "outputs": [
    {
     "data": {
      "text/plain": [
       "array([[ 0.6,  0.6,  0.6],\n",
       "       [ 0.6,  0.6,  0.6],\n",
       "       [ 0.7,  0.6,  0.7]])"
      ]
     },
     "execution_count": 36,
     "metadata": {},
     "output_type": "execute_result"
    }
   ],
   "source": [
    "mortgage"
   ]
  },
  {
   "cell_type": "code",
   "execution_count": 64,
   "metadata": {},
   "outputs": [],
   "source": [
    "mortgage = [[] for i in range(3)]\n",
    "for j in range(3):\n",
    "\tfor i in range(3):\n",
    "\t    mortgage[j].append(np.max(np.minimum(i_m_rel[:,i],income[j])))"
   ]
  },
  {
   "cell_type": "code",
   "execution_count": 65,
   "metadata": {},
   "outputs": [
    {
     "data": {
      "text/plain": [
       "[[0.59999999999999998, 0.59999999999999998, 0.59999999999999998],\n",
       " [0.59999999999999998, 0.59999999999999998, 0.59999999999999998],\n",
       " [0.69999999999999996, 0.59999999999999998, 0.69999999999999996]]"
      ]
     },
     "execution_count": 65,
     "metadata": {},
     "output_type": "execute_result"
    }
   ],
   "source": [
    "mortgage"
   ]
  },
  {
   "cell_type": "code",
   "execution_count": 66,
   "metadata": {},
   "outputs": [],
   "source": [
    "pp = []\n",
    "for i in range(3):\n",
    "    pp.append(mortgage[i][0])"
   ]
  },
  {
   "cell_type": "code",
   "execution_count": 69,
   "metadata": {},
   "outputs": [
    {
     "data": {
      "text/plain": [
       "2"
      ]
     },
     "execution_count": 69,
     "metadata": {},
     "output_type": "execute_result"
    }
   ],
   "source": [
    "np.argmax(pp)"
   ]
  },
  {
   "cell_type": "code",
   "execution_count": 82,
   "metadata": {},
   "outputs": [
    {
     "ename": "IndentationError",
     "evalue": "unindent does not match any outer indentation level (<ipython-input-82-770558aacfbe>, line 41)",
     "output_type": "error",
     "traceback": [
      "\u001b[0;36m  File \u001b[0;32m\"<ipython-input-82-770558aacfbe>\"\u001b[0;36m, line \u001b[0;32m41\u001b[0m\n\u001b[0;31m    for i in range(3):\u001b[0m\n\u001b[0m                      ^\u001b[0m\n\u001b[0;31mIndentationError\u001b[0m\u001b[0;31m:\u001b[0m unindent does not match any outer indentation level\n"
     ]
    }
   ],
   "source": [
    "import numpy as np\n",
    "\n",
    "\n",
    "def fuzzy(price):\n",
    "    if price < 5:\n",
    "        return [1., 0., 0.]\n",
    "    elif price >= 5 and price < 10:\n",
    "        return [2. - price / 5., price / 5. - 1, 0.]\n",
    "    elif price >= 10 and price < 20:\n",
    "        return [0., 1., 0.]\n",
    "    elif price >= 20 and price < 35:\n",
    "        return [0, -price / 15. + 35 / 15., -price / 15. - 20 / 15.]\n",
    "    else:\n",
    "    \treturn [0., 0., 1.]\n",
    "\n",
    "price = []\n",
    "for i in range(1, 4):\n",
    "    price.append(int(raw_input(\"Enter car price of person {}: \".format(i))))\n",
    "\n",
    "#### car price and income relationship ##############\n",
    "c_i_rel = np.matrix([[0.6, 0.3, 0.3],\n",
    "                     [0.3, 0.8, 0.3],\n",
    "                     [0.1, 0.3, 0.7]])\n",
    "\n",
    "#### income and mortgage relationship ##############\n",
    "\n",
    "i_m_rel = np.matrix([[0., 0.3, 1.],\n",
    "                     [0.2, 0.6, 0.5],\n",
    "                     [0.8, 0.4, 0.4]])\n",
    "\n",
    "for j in range(3):\n",
    "\tprice_rel = []\n",
    "\tfor i in range(3):\n",
    "\t    price_rel = np.vstack(fuzzy(price[i]/1000))\n",
    "\n",
    "\tincome = []\n",
    "\tfor i in range(3):\n",
    "\t    income.append(np.max(np.minimum(c_i_rel[:, i], price_rel)))\n",
    "\n",
    "\tmortgage = []\n",
    "    for i in range(3):\n",
    "        mortgage.append(np.max(np.minimum(i_m_rel[:,i],income)))\n",
    "\n",
    "\tprint mortgage\n"
   ]
  },
  {
   "cell_type": "code",
   "execution_count": 84,
   "metadata": {},
   "outputs": [
    {
     "name": "stdout",
     "output_type": "stream",
     "text": [
      "Enter car price of person 1: 9000\n",
      "Enter car price of person 2: 16000\n",
      "Enter car price of person 3: 48000\n",
      "[0.69999999999999996, 0.59999999999999998, 0.69999999999999996]\n",
      "[0.69999999999999996, 0.59999999999999998, 0.69999999999999996]\n",
      "[0.69999999999999996, 0.59999999999999998, 0.69999999999999996]\n"
     ]
    }
   ],
   "source": [
    "import numpy as np\n",
    "\n",
    "\n",
    "def fuzzy(price):\n",
    "    if price < 5:\n",
    "        return [1., 0., 0.]\n",
    "    elif price >= 5 and price < 10:\n",
    "        return [2. - price / 5., price / 5. - 1, 0.]\n",
    "    elif price >= 10 and price < 20:\n",
    "        return [0., 1., 0.]\n",
    "    elif price >= 20 and price < 35:\n",
    "        return [0, -price / 15. + 35 / 15., -price / 15. - 20 / 15.]\n",
    "    else:\n",
    "    \treturn [0., 0., 1.]\n",
    "\n",
    "price = []\n",
    "for i in range(1, 4):\n",
    "    price.append(int(raw_input(\"Enter car price of person {}: \".format(i))))\n",
    "\n",
    "#### car price and income relationship ##############\n",
    "c_i_rel = np.matrix([[0.6, 0.3, 0.3],\n",
    "                     [0.3, 0.8, 0.3],\n",
    "                     [0.1, 0.3, 0.7]])\n",
    "\n",
    "#### income and mortgage relationship ##############\n",
    "\n",
    "i_m_rel = np.matrix([[0., 0.3, 1.],\n",
    "                     [0.2, 0.6, 0.5],\n",
    "                     [0.8, 0.4, 0.4]])\n",
    "\n",
    "for j in range(3):\n",
    "    price_rel = []\n",
    "    for i in range(3):\n",
    "        price_rel = np.vstack(fuzzy(price[j]/1000))\n",
    "\n",
    "    income = []\n",
    "    for i in range(3):\n",
    "        income.append(np.max(np.minimum(c_i_rel[:, i], price_rel)))\n",
    "\n",
    "    mortgage = []\n",
    "    for i in range(3):\n",
    "        mortgage.append(np.max(np.minimum(i_m_rel[:,i],income)))\n",
    "\n",
    "    print mortgage\n"
   ]
  },
  {
   "cell_type": "code",
   "execution_count": null,
   "metadata": {
    "collapsed": true
   },
   "outputs": [],
   "source": []
  }
 ],
 "metadata": {
  "kernelspec": {
   "display_name": "Python 2",
   "language": "python",
   "name": "python2"
  },
  "language_info": {
   "codemirror_mode": {
    "name": "ipython",
    "version": 2
   },
   "file_extension": ".py",
   "mimetype": "text/x-python",
   "name": "python",
   "nbconvert_exporter": "python",
   "pygments_lexer": "ipython2",
   "version": "2.7.12"
  }
 },
 "nbformat": 4,
 "nbformat_minor": 2
}
