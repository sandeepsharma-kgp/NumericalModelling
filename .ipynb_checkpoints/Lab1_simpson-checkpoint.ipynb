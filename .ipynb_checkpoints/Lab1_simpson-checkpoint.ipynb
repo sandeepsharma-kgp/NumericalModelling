{
 "cells": [
  {
   "cell_type": "code",
   "execution_count": 169,
   "metadata": {},
   "outputs": [
    {
     "name": "stdout",
     "output_type": "stream",
     "text": [
      "Enter degree of polynomial: 3\n",
      "Enter coefficient of x^3: 2\n",
      "Enter coefficient of x^2: 1\n",
      "Enter coefficient of x^1: 3\n",
      "Enter coefficient of x^0: 5\n",
      "Enter a: 2\n",
      "Enter b: 6\n",
      "For Simpson menthod ,enter n(must be even): 8\n",
      "Area using Simpson 1/3rd rule:  777.333333333\n",
      "For Trapezoidal menthod ,enter n: 78\n",
      "Area using Trapezoidal rule:  777.377164146\n",
      "Actual area:  777.333333333\n"
     ]
    }
   ],
   "source": [
    "from scipy.integrate import quad\n",
    "from matplotlib import pyplot as plt\n",
    "import numpy as np\n",
    "\n",
    "def poly(x,arr):\n",
    "    ans = 0\n",
    "    for i in range(len(arr)):\n",
    "        ans += arr[i]*pow(x,i)\n",
    "    return ans\n",
    "    \n",
    "def simpson(a, b, n, arr):\n",
    "    h = (b-a)/float(n)\n",
    "    sections = n\n",
    "    apx = 0.0\n",
    "    def poly(x):\n",
    "        ans = 0\n",
    "        for i in range(len(arr)):\n",
    "            ans += arr[i]*pow(x,i)\n",
    "        return ans\n",
    "    for i in range(1,sections):\n",
    "        x = a + h*i\n",
    "        if i%2==0:\n",
    "            apx += 2*poly(x)\n",
    "        else:\n",
    "            apx += 4*poly(x)\n",
    "    \n",
    "    apx += poly(a) + poly(b)\n",
    "    \n",
    "#     print \"For n = {}, area under curve using Simpson 1/3rd rule: \".format(n), apx*h/3.0\n",
    "    return apx*h/3.0\n",
    "\n",
    "def trapezoidal(a, b, n, arr):\n",
    "    h = (b-a)/float(n)\n",
    "    sections = n\n",
    "    apx = 0.0\n",
    "    def poly(x):\n",
    "        ans = 0\n",
    "        for i in range(len(arr)):\n",
    "            ans += arr[i]*pow(x,i)\n",
    "        return ans\n",
    "    \n",
    "    for i in range(1,sections):\n",
    "        x = a + h*i\n",
    "        apx += 2*poly(x)\n",
    "    \n",
    "    apx += poly(a) + poly(b)\n",
    "#     print \"For n = {}, area under curve using Trapezoidal rule: \".format(n), apx*h/2.0\n",
    "    return apx*h/2.0\n",
    "    \n",
    "if __name__ == \"__main__\":\n",
    "    degree = int(raw_input(\"Enter degree of polynomial: \"))\n",
    "    arr = [1]*(degree+1)\n",
    "    for i in range(0,degree+1):\n",
    "        arr[degree-i] = int(raw_input( \"Enter coefficient of x^{}: \".format(degree-i)))\n",
    "    \n",
    "    a = float(raw_input(\"Enter a: \"))\n",
    "    b = float(raw_input(\"Enter b: \"))\n",
    "    \n",
    "    n = int(raw_input(\"For Simpson menthod ,enter n(must be even): \"))\n",
    "    print \"Area using Simpson 1/3rd rule: \", simpson(a, b, n, arr)   \n",
    "    n_simpson = []\n",
    "    area_simpson = []\n",
    "    sections = n\n",
    "    while(n > sections-10 and n>0):\n",
    "        n_simpson.append(n)\n",
    "        n -= 2\n",
    "    n = sections+2\n",
    "    while(n <= sections+10):\n",
    "        n_simpson.append(n)\n",
    "        n += 2\n",
    "    for i in n_simpson:\n",
    "        area_simpson.append(simpson(a, b, i, arr))\n",
    "        \n",
    "    n = int(raw_input(\"For Trapezoidal menthod ,enter n: \"))\n",
    "    print \"Area using Trapezoidal rule: \",trapezoidal(a, b, n, arr)\n",
    "    n_trapezoidal = []\n",
    "    area_trapezoidal = []\n",
    "    sections = n\n",
    "    while(n > sections-100 and n>0):\n",
    "        n_trapezoidal.append(n)\n",
    "        n -= 10\n",
    "    n = sections+2\n",
    "    while(n <= sections+200):\n",
    "        n_trapezoidal.append(n)\n",
    "        n += 50\n",
    "    for i in n_trapezoidal:\n",
    "        area_trapezoidal.append(trapezoidal(a, b, i, arr))\n",
    "    \n",
    "    I = quad(poly, a, b, args=arr)\n",
    "    print \"Actual area: \",I[0]\n",
    "    \n",
    "    \n",
    "    \n",
    "        \n"
   ]
  },
  {
   "cell_type": "code",
   "execution_count": 170,
   "metadata": {},
   "outputs": [
    {
     "data": {
      "text/plain": [
       "[78, 68, 58, 48, 38, 28, 18, 8, 80, 130, 180, 230]"
      ]
     },
     "execution_count": 170,
     "metadata": {},
     "output_type": "execute_result"
    }
   ],
   "source": [
    "n_trapezoidal"
   ]
  },
  {
   "cell_type": "code",
   "execution_count": 171,
   "metadata": {},
   "outputs": [
    {
     "data": {
      "text/plain": [
       "[777.377164146395,\n",
       " 777.3910034602077,\n",
       " 777.4126040428064,\n",
       " 777.4490740740739,\n",
       " 777.5180055401661,\n",
       " 777.6734693877548,\n",
       " 778.156378600823,\n",
       " 781.5,\n",
       " 777.3750000000002,\n",
       " 777.3491124260354,\n",
       " 777.341563786008,\n",
       " 777.3383742911155]"
      ]
     },
     "execution_count": 171,
     "metadata": {},
     "output_type": "execute_result"
    }
   ],
   "source": [
    "area_trapezoidal = "
   ]
  },
  {
   "cell_type": "code",
   "execution_count": 172,
   "metadata": {},
   "outputs": [],
   "source": []
  },
  {
   "cell_type": "code",
   "execution_count": 179,
   "metadata": {},
   "outputs": [
    {
     "data": {
      "image/png": "[encoded data removed]",
      "text/plain": [
       "<matplotlib.figure.Figure at 0x7fb84247f110>"
      ]
     },
     "metadata": {},
     "output_type": "display_data"
    },
    {
     "data": {
      "text/plain": [
       "<matplotlib.collections.PathCollection at 0x7fb842326990>"
      ]
     },
     "execution_count": 179,
     "metadata": {},
     "output_type": "execute_result"
    }
   ],
   "source": [
    "plt.scatter(n_trapezoidal, area_trapezoidal)\n",
    "plt.show()\n",
    "plt.scatter(n_simpson, area_simpson)"
   ]
  },
  {
   "cell_type": "code",
   "execution_count": 180,
   "metadata": {},
   "outputs": [
    {
     "data": {
      "image/png": "[encoded data removed]",
      "text/plain": [
       "<matplotlib.figure.Figure at 0x7fb8423a1f50>"
      ]
     },
     "metadata": {},
     "output_type": "display_data"
    }
   ],
   "source": [
    "plt.show()"
   ]
  },
  {
   "cell_type": "code",
   "execution_count": null,
   "metadata": {},
   "outputs": [],
   "source": [
    "n = int(raw_input(\"For Simpson menthod ,enter n(must be even): \"))\n",
    "simpson(n)"
   ]
  },
  {
   "cell_type": "code",
   "execution_count": null,
   "metadata": {
    "collapsed": true
   },
   "outputs": [],
   "source": []
  },
  {
   "cell_type": "code",
   "execution_count": 105,
   "metadata": {
    "collapsed": true
   },
   "outputs": [],
   "source": [
    "\n",
    "    degree = int(raw_input(\"Enter degree of polynomial: \"))\n",
    "    arr = [1]*(degree+1)\n",
    "    for i in range(0,degree+1):\n",
    "        arr[degree-i] = int(raw_input( \"Enter coefficient of x^{}: \".format(degree-i)))\n",
    "    \n",
    "    a = float(raw_input(\"Enter a: \"))\n",
    "    b = float(raw_input(\"Enter b: \"))\n",
    "    h = (b-a)/float(sections)\n",
    "    \n",
    "    apx = 0.0\n",
    "    def poly(x):\n",
    "        ans = 0\n",
    "        for i in range(len(arr)):\n",
    "            ans += arr[i]*pow(x,i)\n",
    "        return ans\n",
    "    \n",
    "    for i in range(1,sections):\n",
    "        x = a + h*i\n",
    "        apx += 2*poly(x)\n",
    "    \n",
    "    apx += poly(a) + poly(b)\n",
    "    \n",
    "    print apx*h/2.0"
   ]
  },
  {
   "cell_type": "code",
   "execution_count": 120,
   "metadata": {},
   "outputs": [
    {
     "name": "stdout",
     "output_type": "stream",
     "text": [
      "Enter n(must be even): 700\n",
      "Enter degree of polynomial: 4\n",
      "Enter coefficient of x^4: 3\n",
      "Enter coefficient of x^3: 2\n",
      "Enter coefficient of x^2: 3\n",
      "Enter coefficient of x^1: 1\n",
      "Enter coefficient of x^0: 9\n",
      "Enter a: 2\n",
      "Enter b: 8\n",
      "22269.6394531\n"
     ]
    }
   ],
   "source": [
    "n = int(raw_input(\"Enter n(must be even): \"))\n",
    "trapezoidal(n)"
   ]
  },
  {
   "cell_type": "code",
   "execution_count": 112,
   "metadata": {},
   "outputs": [],
   "source": [
    "from scipy.integrate import quad"
   ]
  },
  {
   "cell_type": "code",
   "execution_count": 117,
   "metadata": {
    "collapsed": true
   },
   "outputs": [],
   "source": [
    "def integration():\n",
    "    degree = int(raw_input(\"Enter degree of polynomial: \"))\n",
    "    arr = [1]*(degree+1)\n",
    "    for i in range(0,degree+1):\n",
    "        arr[degree-i] = int(raw_input( \"Enter coefficient of x^{}: \".format(degree-i)))\n",
    "    \n",
    "    a = float(raw_input(\"Enter a: \"))\n",
    "    b = float(raw_input(\"Enter b: \"))\n",
    "#     h = (b-a)/float(sections)\n",
    "    \n",
    "    apx = 0.0\n",
    "    def poly(x):\n",
    "        ans = 0\n",
    "        for i in range(len(arr)):\n",
    "            ans += arr[i]*pow(x,i)\n",
    "        return ans\n",
    "    I = quad(poly, a, b)\n",
    "    print I"
   ]
  },
  {
   "cell_type": "code",
   "execution_count": 119,
   "metadata": {},
   "outputs": [
    {
     "name": "stdout",
     "output_type": "stream",
     "text": [
      "Enter degree of polynomial: 4\n",
      "Enter coefficient of x^4: 3\n",
      "Enter coefficient of x^3: 2\n",
      "Enter coefficient of x^2: 3\n",
      "Enter coefficient of x^1: 1\n",
      "Enter coefficient of x^0: 9\n",
      "Enter a: 2\n",
      "Enter b: 8\n",
      "(22269.599999999995, 2.472422266919238e-10)\n"
     ]
    }
   ],
   "source": [
    "integration()"
   ]
  },
  {
   "cell_type": "code",
   "execution_count": null,
   "metadata": {
    "collapsed": true
   },
   "outputs": [],
   "source": []
  }
 ],
 "metadata": {
  "kernelspec": {
   "display_name": "Python 2",
   "language": "python",
   "name": "python2"
  },
  "language_info": {
   "codemirror_mode": {
    "name": "ipython",
    "version": 2
   },
   "file_extension": ".py",
   "mimetype": "text/x-python",
   "name": "python",
   "nbconvert_exporter": "python",
   "pygments_lexer": "ipython2",
   "version": "2.7.6"
  }
 },
 "nbformat": 4,
 "nbformat_minor": 2
}
