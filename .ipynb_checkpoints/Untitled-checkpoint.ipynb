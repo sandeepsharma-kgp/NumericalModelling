{
 "cells": [
  {
   "cell_type": "code",
   "execution_count": 77,
   "metadata": {
    "collapsed": true
   },
   "outputs": [],
   "source": [
    "import numpy as np\n",
    "np.set_printoptions(precision=2)\n",
    "\n",
    "def compliance(b,d,knn,ktt):\n",
    "    cnn = (d*knn)**-1\n",
    "    ctt = (d*ktt)**-1\n",
    "    c_i = np.matrix([[0., 0., 0., 0.],\n",
    "                     [0., cnn, 0., 0.],\n",
    "                     [0., 0., ctt, 0.],\n",
    "                     [0., 0., 0., 0.]])\n",
    "    c = np.cos(b*np.pi/180.)\n",
    "    s = np.sin(b*np.pi/180.)\n",
    "    c2 = c**2\n",
    "    s2 = s**2\n",
    "    T_i = np.matrix([[c2, s2, 2*c*s, 0.],\n",
    "                     [s2, c2, -2*c*s, 0.],\n",
    "                     [c*s, -c*s, s2-c2, 0.],\n",
    "                     [0., 0., 0., 1.]])\n",
    "    C_i = T_i.T*c_i*T_i\n",
    "    \n",
    "    return C_i\n",
    "\n",
    "J1 = compliance(20,5,10,10)\n",
    "J2 = compliance(70,2,10,10)"
   ]
  },
  {
   "cell_type": "code",
   "execution_count": 78,
   "metadata": {
    "collapsed": true
   },
   "outputs": [],
   "source": [
    "J = J1+J2"
   ]
  },
  {
   "cell_type": "code",
   "execution_count": 79,
   "metadata": {},
   "outputs": [
    {
     "data": {
      "text/plain": [
       "matrix([[  4.65e-02,  -1.30e-18,  -2.25e-02,   0.00e+00],\n",
       "        [ -1.30e-18,   2.35e-02,  -2.25e-02,   0.00e+00],\n",
       "        [ -2.25e-02,  -2.25e-02,   7.00e-02,   0.00e+00],\n",
       "        [  0.00e+00,   0.00e+00,   0.00e+00,   0.00e+00]])"
      ]
     },
     "execution_count": 79,
     "metadata": {},
     "output_type": "execute_result"
    }
   ],
   "source": [
    "J"
   ]
  },
  {
   "cell_type": "code",
   "execution_count": 80,
   "metadata": {},
   "outputs": [
    {
     "data": {
      "text/plain": [
       "array([[ 0.,  0.,  0.,  0.],\n",
       "       [ 0.,  0.,  0.,  0.],\n",
       "       [ 0.,  0.,  0.,  0.],\n",
       "       [ 0.,  0.,  0.,  0.]])"
      ]
     },
     "execution_count": 80,
     "metadata": {},
     "output_type": "execute_result"
    }
   ],
   "source": [
    "np.zeros(shape=(4,4))"
   ]
  },
  {
   "cell_type": "code",
   "execution_count": 81,
   "metadata": {},
   "outputs": [],
   "source": [
    "J = np.asarray(J)"
   ]
  },
  {
   "cell_type": "code",
   "execution_count": 82,
   "metadata": {},
   "outputs": [
    {
     "data": {
      "text/plain": [
       "array([[  4.65e-02,  -1.30e-18,  -2.25e-02,   0.00e+00],\n",
       "       [ -1.30e-18,   2.35e-02,  -2.25e-02,   0.00e+00],\n",
       "       [ -2.25e-02,  -2.25e-02,   7.00e-02,   0.00e+00],\n",
       "       [  0.00e+00,   0.00e+00,   0.00e+00,   0.00e+00]])"
      ]
     },
     "execution_count": 82,
     "metadata": {},
     "output_type": "execute_result"
    }
   ],
   "source": [
    "J"
   ]
  },
  {
   "cell_type": "code",
   "execution_count": 83,
   "metadata": {},
   "outputs": [
    {
     "data": {
      "text/plain": [
       "0.04649066664678466"
      ]
     },
     "execution_count": 83,
     "metadata": {},
     "output_type": "execute_result"
    }
   ],
   "source": [
    "J[0][0]"
   ]
  },
  {
   "cell_type": "code",
   "execution_count": 84,
   "metadata": {},
   "outputs": [
    {
     "data": {
      "text/plain": [
       "matrix([[  4.65e-02,  -1.30e-18,  -2.25e-02,   0.00e+00],\n",
       "        [ -1.30e-18,   2.35e-02,  -2.25e-02,   0.00e+00],\n",
       "        [ -2.25e-02,  -2.25e-02,   7.00e-02,   0.00e+00],\n",
       "        [  0.00e+00,   0.00e+00,   0.00e+00,   0.00e+00]])"
      ]
     },
     "execution_count": 84,
     "metadata": {},
     "output_type": "execute_result"
    }
   ],
   "source": [
    "np.asmatrix(J)"
   ]
  },
  {
   "cell_type": "code",
   "execution_count": 86,
   "metadata": {},
   "outputs": [
    {
     "name": "stdout",
     "output_type": "stream",
     "text": [
      "No. of Joints ,enter n: 1\n",
      "\n",
      "\n",
      "Enter Joint Spacing(in m.) of Joint-1: 5\n",
      "Enter Joint orientation angle(in degree) of Joint-1: 20\n",
      "Enter normal stiffness(in GPa/m.) of Joint-1: 10\n",
      "Enter tangential stiffness(in GPa/m.) of Joint-1: 10\n",
      "[[  2.34e-03  -4.34e-19  -6.43e-03   0.00e+00]\n",
      " [ -4.34e-19   1.77e-02  -6.43e-03   0.00e+00]\n",
      " [ -6.43e-03  -6.43e-03   2.00e-02   0.00e+00]\n",
      " [  0.00e+00   0.00e+00   0.00e+00   0.00e+00]]\n",
      "\n",
      "Total compliance matrix(in 1/GPa) is: \n",
      "\n",
      "[[  2.34e-03  -4.34e-19  -6.43e-03   0.00e+00]\n",
      " [ -4.34e-19   1.77e-02  -6.43e-03   0.00e+00]\n",
      " [ -6.43e-03  -6.43e-03   2.00e-02   0.00e+00]\n",
      " [  0.00e+00   0.00e+00   0.00e+00   0.00e+00]]\n"
     ]
    }
   ],
   "source": [
    "import numpy as np\n",
    "# np.set_printoptions(precision=45)\n",
    "\n",
    "\n",
    "def get_compliance(T_i,c_i):\n",
    "    C = np.asarray(np.zeros(shape=(4, 4)))\n",
    "    for i in range(4):\n",
    "        for j in range(4):\n",
    "            for k in range(4):\n",
    "                C[i][j] += T_i[k][i] * c_i[k][j]\n",
    "    K = np.asarray(np.zeros(shape=(4, 4)))\n",
    "    for i in range(4):\n",
    "        for j in range(4):\n",
    "            for k in range(4):\n",
    "                K[i][j] += C[i][k] * T_i[k][j]      \n",
    "    return np.asmatrix(K)\n",
    "\n",
    "def compliance(b, d, knn, ktt):\n",
    "    cnn = (d * knn)**-1\n",
    "    ctt = (d * ktt)**-1\n",
    "    c_i = np.matrix([[0., 0., 0., 0.],\n",
    "                     [0., cnn, 0., 0.],\n",
    "                     [0., 0., ctt, 0.],\n",
    "                     [0., 0., 0., 0.]])\n",
    "    c = np.cos(b * np.pi / 180.)\n",
    "    s = np.sin(b * np.pi / 180.)\n",
    "    c2 = c**2\n",
    "    s2 = s**2\n",
    "    T_i = np.matrix([[c2, s2, 2 * c * s, 0.],\n",
    "                     [s2, c2, -2 * c * s, 0.],\n",
    "                     [c * s, -c * s, s2 - c2, 0.],\n",
    "                     [0., 0., 0., 1.]])\n",
    "    C_i = get_compliance(np.asarray(T_i),np.asarray(c_i))\n",
    "\n",
    "    return C_i\n",
    "\n",
    "if __name__ == \"__main__\":\n",
    "    n = int(raw_input(\"No. of Joints ,enter n: \"))\n",
    "    C = np.zeros(shape=(4, 4))\n",
    "    for i in range(n):\n",
    "        print \"\\n\"\n",
    "        d = int(raw_input(\"Enter Joint Spacing(in m.) of Joint-{}: \".format(i + 1)))\n",
    "        b = int(\n",
    "            raw_input(\"Enter Joint orientation angle(in degree) of Joint-{}: \".format(i + 1)))\n",
    "        knn = int(\n",
    "            raw_input(\"Enter normal stiffness(in GPa/m.) of Joint-{}: \".format(i + 1)))\n",
    "        ktt = int(\n",
    "            raw_input(\"Enter tangential stiffness(in GPa/m.) of Joint-{}: \".format(i + 1)))\n",
    "        C = C + compliance(b, d, knn, ktt)\n",
    "\n",
    "    print \"\\nTotal compliance matrix(in 1/GPa) is: \\n\\n\", C\n"
   ]
  },
  {
   "cell_type": "code",
   "execution_count": 88,
   "metadata": {},
   "outputs": [
    {
     "data": {
      "text/plain": [
       "array([[  4.65e-02,  -1.30e-18,  -2.25e-02,   0.00e+00],\n",
       "       [ -1.30e-18,   2.35e-02,  -2.25e-02,   0.00e+00],\n",
       "       [ -2.25e-02,  -2.25e-02,   7.00e-02,   0.00e+00],\n",
       "       [  0.00e+00,   0.00e+00,   0.00e+00,   0.00e+00]])"
      ]
     },
     "execution_count": 88,
     "metadata": {},
     "output_type": "execute_result"
    }
   ],
   "source": [
    "J"
   ]
  },
  {
   "cell_type": "code",
   "execution_count": null,
   "metadata": {
    "collapsed": true
   },
   "outputs": [],
   "source": []
  }
 ],
 "metadata": {
  "kernelspec": {
   "display_name": "Python 2",
   "language": "python",
   "name": "python2"
  },
  "language_info": {
   "codemirror_mode": {
    "name": "ipython",
    "version": 2
   },
   "file_extension": ".py",
   "mimetype": "text/x-python",
   "name": "python",
   "nbconvert_exporter": "python",
   "pygments_lexer": "ipython2",
   "version": "2.7.12"
  }
 },
 "nbformat": 4,
 "nbformat_minor": 2
}
