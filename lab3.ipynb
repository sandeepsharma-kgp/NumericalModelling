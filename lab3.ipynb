{
 "cells": [
  {
   "cell_type": "code",
   "execution_count": 3,
   "metadata": {
    "collapsed": true
   },
   "outputs": [],
   "source": [
    "import numpy as np"
   ]
  },
  {
   "cell_type": "code",
   "execution_count": 4,
   "metadata": {
    "collapsed": true
   },
   "outputs": [],
   "source": [
    "l = np.array([25., 50., 75.,100.])"
   ]
  },
  {
   "cell_type": "code",
   "execution_count": 5,
   "metadata": {
    "collapsed": true
   },
   "outputs": [],
   "source": [
    "Sl = np.array([18., 10., 7., 6.])"
   ]
  },
  {
   "cell_type": "code",
   "execution_count": 50,
   "metadata": {
    "collapsed": true
   },
   "outputs": [],
   "source": [
    "log_l = np.log(l)\n",
    "log_Sl = np.log(Sl)"
   ]
  },
  {
   "cell_type": "code",
   "execution_count": 51,
   "metadata": {
    "collapsed": true
   },
   "outputs": [],
   "source": [
    "Dr = 4*(np.sum(np.square(log_l))) - np.square(np.sum(log_Sl))"
   ]
  },
  {
   "cell_type": "code",
   "execution_count": 52,
   "metadata": {
    "collapsed": true
   },
   "outputs": [],
   "source": [
    "Nr_k = np.sum(log_Sl)*np.sum(np.square(log_l)) - np.sum(log_l)*np.sum(np.multiply(log_Sl,log_l))"
   ]
  },
  {
   "cell_type": "code",
   "execution_count": 53,
   "metadata": {
    "collapsed": true
   },
   "outputs": [],
   "source": [
    "Nr_b = -(4*np.sum(np.multiply(log_l,log_Sl)) - np.sum(log_l)*np.sum(log_Sl)) "
   ]
  },
  {
   "cell_type": "code",
   "execution_count": 54,
   "metadata": {
    "collapsed": true
   },
   "outputs": [],
   "source": [
    "log_k = Nr_k/Dr"
   ]
  },
  {
   "cell_type": "code",
   "execution_count": 55,
   "metadata": {
    "collapsed": true
   },
   "outputs": [],
   "source": [
    "b = Nr_b/Dr"
   ]
  },
  {
   "cell_type": "code",
   "execution_count": 56,
   "metadata": {},
   "outputs": [
    {
     "data": {
      "text/plain": [
       "4.6051701859880918"
      ]
     },
     "execution_count": 56,
     "metadata": {},
     "output_type": "execute_result"
    }
   ],
   "source": [
    "np.log(100)"
   ]
  },
  {
   "cell_type": "code",
   "execution_count": 57,
   "metadata": {},
   "outputs": [
    {
     "data": {
      "text/plain": [
       "0.13041277081833968"
      ]
     },
     "execution_count": 57,
     "metadata": {},
     "output_type": "execute_result"
    }
   ],
   "source": [
    "log_k"
   ]
  },
  {
   "cell_type": "code",
   "execution_count": 58,
   "metadata": {},
   "outputs": [
    {
     "data": {
      "text/plain": [
       "0.019260077615282683"
      ]
     },
     "execution_count": 58,
     "metadata": {},
     "output_type": "execute_result"
    }
   ],
   "source": [
    "b"
   ]
  },
  {
   "cell_type": "code",
   "execution_count": 46,
   "metadata": {
    "collapsed": true
   },
   "outputs": [],
   "source": [
    "S1 = log_k-b*np.log(100)"
   ]
  },
  {
   "cell_type": "code",
   "execution_count": 47,
   "metadata": {
    "scrolled": false
   },
   "outputs": [
    {
     "data": {
      "text/plain": [
       "0.041716835604623248"
      ]
     },
     "execution_count": 47,
     "metadata": {},
     "output_type": "execute_result"
    }
   ],
   "source": [
    "S1"
   ]
  },
  {
   "cell_type": "code",
   "execution_count": 49,
   "metadata": {},
   "outputs": [
    {
     "data": {
      "text/plain": [
       "1.791759469228055"
      ]
     },
     "execution_count": 49,
     "metadata": {},
     "output_type": "execute_result"
    }
   ],
   "source": [
    "np.log(6)"
   ]
  },
  {
   "cell_type": "code",
   "execution_count": 48,
   "metadata": {
    "scrolled": true
   },
   "outputs": [
    {
     "data": {
      "text/plain": [
       "1.0425992099730215"
      ]
     },
     "execution_count": 48,
     "metadata": {},
     "output_type": "execute_result"
    }
   ],
   "source": [
    "np.exp(S1)"
   ]
  },
  {
   "cell_type": "code",
   "execution_count": 18,
   "metadata": {},
   "outputs": [
    {
     "data": {
      "text/plain": [
       "10.000000000000002"
      ]
     },
     "execution_count": 18,
     "metadata": {},
     "output_type": "execute_result"
    }
   ],
   "source": [
    "np.exp(np.log(10))"
   ]
  },
  {
   "cell_type": "code",
   "execution_count": 104,
   "metadata": {},
   "outputs": [
    {
     "data": {
      "text/plain": [
       "array([ 3.21887582,  3.91202301,  4.31748811,  4.60517019])"
      ]
     },
     "execution_count": 104,
     "metadata": {},
     "output_type": "execute_result"
    }
   ],
   "source": [
    "log_l"
   ]
  },
  {
   "cell_type": "code",
   "execution_count": 105,
   "metadata": {},
   "outputs": [
    {
     "data": {
      "text/plain": [
       "array([  25.,   50.,   75.,  100.])"
      ]
     },
     "execution_count": 105,
     "metadata": {},
     "output_type": "execute_result"
    }
   ],
   "source": [
    "l"
   ]
  },
  {
   "cell_type": "code",
   "execution_count": 106,
   "metadata": {},
   "outputs": [
    {
     "data": {
      "text/plain": [
       "array([ 3.21887582,  3.91202301,  4.31748811,  4.60517019])"
      ]
     },
     "execution_count": 106,
     "metadata": {},
     "output_type": "execute_result"
    }
   ],
   "source": [
    "np.log(l)"
   ]
  },
  {
   "cell_type": "code",
   "execution_count": 107,
   "metadata": {
    "collapsed": true
   },
   "outputs": [],
   "source": [
    "def func(params, xdata, ydata):\n",
    "    print params\n",
    "    return (ydata - np.dot(xdata, params))"
   ]
  },
  {
   "cell_type": "code",
   "execution_count": 108,
   "metadata": {
    "collapsed": true
   },
   "outputs": [],
   "source": [
    "import scipy.optimize as optimization"
   ]
  },
  {
   "cell_type": "code",
   "execution_count": 111,
   "metadata": {
    "collapsed": true
   },
   "outputs": [],
   "source": [
    "xdata = np.transpose(np.array([[1.0,1.0,1.0,1.],\n",
    "              log_l]))"
   ]
  },
  {
   "cell_type": "code",
   "execution_count": 112,
   "metadata": {},
   "outputs": [
    {
     "data": {
      "text/plain": [
       "array([[ 1.        ,  3.21887582],\n",
       "       [ 1.        ,  3.91202301],\n",
       "       [ 1.        ,  4.31748811],\n",
       "       [ 1.        ,  4.60517019]])"
      ]
     },
     "execution_count": 112,
     "metadata": {},
     "output_type": "execute_result"
    }
   ],
   "source": [
    "xdata"
   ]
  },
  {
   "cell_type": "code",
   "execution_count": 113,
   "metadata": {
    "collapsed": true
   },
   "outputs": [],
   "source": [
    "ydata = log_Sl"
   ]
  },
  {
   "cell_type": "code",
   "execution_count": 114,
   "metadata": {},
   "outputs": [
    {
     "data": {
      "text/plain": [
       "array([ 2.89037176,  2.30258509,  1.94591015,  1.79175947])"
      ]
     },
     "execution_count": 114,
     "metadata": {},
     "output_type": "execute_result"
    }
   ],
   "source": [
    "ydata"
   ]
  },
  {
   "cell_type": "code",
   "execution_count": 115,
   "metadata": {
    "collapsed": true
   },
   "outputs": [],
   "source": [
    "x0    = np.array([0.0, 0.0])"
   ]
  },
  {
   "cell_type": "code",
   "execution_count": 116,
   "metadata": {},
   "outputs": [
    {
     "name": "stdout",
     "output_type": "stream",
     "text": [
      "[ 0.  0.]\n",
      "[ 0.  0.]\n",
      "[ 0.  0.]\n",
      "[  1.49011612e-08   0.00000000e+00]\n",
      "[  0.00000000e+00   1.49011612e-08]\n",
      "[ 5.48186441 -0.80959198]\n",
      "[ 5.48186449 -0.80959198]\n",
      "[ 5.48186441 -0.80959197]\n",
      "[ 5.48186442 -0.80959199]\n",
      "(array([ 5.48186442, -0.80959199]), 3)\n"
     ]
    }
   ],
   "source": [
    "print optimization.leastsq(func, x0, args=(xdata, ydata))"
   ]
  },
  {
   "cell_type": "code",
   "execution_count": 117,
   "metadata": {},
   "outputs": [
    {
     "data": {
      "text/plain": [
       "1.791759469228055"
      ]
     },
     "execution_count": 117,
     "metadata": {},
     "output_type": "execute_result"
    }
   ],
   "source": [
    "np.log(6)"
   ]
  },
  {
   "cell_type": "code",
   "execution_count": 119,
   "metadata": {},
   "outputs": [
    {
     "data": {
      "text/plain": [
       "5.8323343279868967"
      ]
     },
     "execution_count": 119,
     "metadata": {},
     "output_type": "execute_result"
    }
   ],
   "source": [
    "np.exp(5.489-0.809*np.log(100))"
   ]
  },
  {
   "cell_type": "code",
   "execution_count": 184,
   "metadata": {},
   "outputs": [
    {
     "name": "stdout",
     "output_type": "stream",
     "text": [
      "1.92829232186\n"
     ]
    }
   ],
   "source": [
    "import numpy as np\n",
    "import scipy.optimize as optimization\n",
    "l = np.array([25, 50, 75, 100])\n",
    "Sl = np.array([18, 10, 7, 6])\n",
    "\n",
    "\n",
    "log_l = np.log(l)\n",
    "log_Sl = np.log(Sl)\n",
    "\n",
    "\n",
    "def func(params, xdata, ydata):\n",
    "    return (ydata - np.dot(xdata, params))\n",
    "x0 = np.array([0.0, 0.0])\n",
    "xdata = np.transpose(np.array([[1.0, 1.0, 1.0, 1.],\n",
    "                               log_l]))\n",
    "ydata = log_Sl\n",
    "log_k, b = optimization.leastsq(func, x0, args=(xdata, ydata))[0]\n",
    "S = np.exp(log_k + b * np.log(1000)) *10e6\n",
    "\n",
    "def fwp(wp, wg, D, derivative=False):\n",
    "    gama = 2600\n",
    "    F = 1.35\n",
    "    h = 3.\n",
    "    a = - 0.36 * S / h\n",
    "    b =  F * (gama* D) - S * .64\n",
    "    c =  2 * wg * F * (gama * D)\n",
    "    d =  (gama * D) * F * wg**2\n",
    "    if not derivative:\n",
    "        return (a * wp**3 + b * wp**2 + c * wp + d)\n",
    "    else:\n",
    "        return (3 * a * wp**2 + 2 * b * wp + c)\n",
    "\n",
    "wp1 = 1000\n",
    "while True:\n",
    "    wp2 = wp1 - fwp(wp1, 4.5, 200.)/fwp(wp1, 4.5, 200.,True)\n",
    "    if abs(wp1-wp2) < .00001:\n",
    "        break\n",
    "    else:\n",
    "        wp1 = wp2\n",
    "\n",
    "print wp1\n"
   ]
  },
  {
   "cell_type": "code",
   "execution_count": 182,
   "metadata": {},
   "outputs": [
    {
     "data": {
      "text/plain": [
       "0.8952977788164469"
      ]
     },
     "execution_count": 182,
     "metadata": {},
     "output_type": "execute_result"
    }
   ],
   "source": [
    "S/10e6"
   ]
  },
  {
   "cell_type": "code",
   "execution_count": 36,
   "metadata": {},
   "outputs": [
    {
     "name": "stdout",
     "output_type": "stream",
     "text": [
      "0.895297778816\n",
      "67.5209476392\n"
     ]
    }
   ],
   "source": [
    "import numpy as np\n",
    "import scipy.optimize as optimization\n",
    "l = np.array([25, 50, 75, 100])\n",
    "Sl = np.array([18, 10, 7, 6])\n",
    "\n",
    "\n",
    "log_l = np.log(l)\n",
    "log_Sl = np.log(Sl)\n",
    "\n",
    "\n",
    "def func(params, xdata, ydata):\n",
    "    return (ydata - np.dot(xdata, params))\n",
    "x0 = np.array([0.0, 0.0])\n",
    "xdata = np.transpose(np.array([[1.0, 1.0, 1.0, 1.0],\n",
    "                               log_l]))\n",
    "ydata = log_Sl\n",
    "log_k, b = optimization.leastsq(func, x0, args=(xdata, ydata))[0]\n",
    "S = np.exp(log_k + b * np.log(1000)) * 1e6\n",
    "\n",
    "\n",
    "def fwp(wp, wg, D, F, derivative=False):\n",
    "    roh = 2600\n",
    "    h = 3.\n",
    "    g = 9.8\n",
    "    a = - 0.36 * S / h\n",
    "    b = F * (roh * g * D) - S * .64\n",
    "    c = 2 * wg * F * (roh * g * D)\n",
    "    d = (roh * g * D) * F * wg**2\n",
    "    if not derivative:\n",
    "        return (a * wp**3 + b * wp**2 + c * wp + d)\n",
    "    else:\n",
    "        return (3 * a * wp**2 + 2 * b * wp + c)\n",
    "\n",
    "wp1 = 1000\n",
    "while True:\n",
    "    wp2 = wp1 - fwp(wp1, 4.5, 1.35, 200.) / fwp(wp1, 4.5, 200., 1.35, True)\n",
    "    if abs(wp1 - wp2) < .00001:\n",
    "        break\n",
    "    else:\n",
    "        wp1 = wp2\n",
    "\n",
    "print S / 1e6\n",
    "print wp1\n",
    "\n",
    "\n",
    "wp_table = np.matrix([[12., 15., 18., 19.5],\n",
    "                  [13.5, 16.5, 19.5, 21.],\n",
    "                  [16.5, 19.5, 22.5, 25.5],\n",
    "                  [22.5, 25.5, 30., 34.5],\n",
    "                  [28.5, 34.5, 39., 45.],\n",
    "                  [39., 42., 45., 48.]])"
   ]
  },
  {
   "cell_type": "code",
   "execution_count": 4,
   "metadata": {},
   "outputs": [
    {
     "data": {
      "text/plain": [
       "matrix([[ 12. ,  15. ,  18. ,  19.5],\n",
       "        [ 13.5,  16.5,  19.5,  21. ],\n",
       "        [ 16.5,  19.5,  22.5,  25.5],\n",
       "        [ 22.5,  25.5,  30. ,  34.5],\n",
       "        [ 28.5,  34.5,  39. ,  45. ],\n",
       "        [ 39. ,  42. ,  45. ,  48. ]])"
      ]
     },
     "execution_count": 4,
     "metadata": {},
     "output_type": "execute_result"
    }
   ],
   "source": [
    "wp_table"
   ]
  },
  {
   "cell_type": "code",
   "execution_count": 5,
   "metadata": {
    "collapsed": true
   },
   "outputs": [],
   "source": [
    "import pandas as pd\n",
    "I = pd.Index([60., 75., 120., 195., 300., 360.], name=\"rows\")\n",
    "C = pd.Index([3., 3.6, 4.2, 4.8], name=\"columns\")"
   ]
  },
  {
   "cell_type": "code",
   "execution_count": 6,
   "metadata": {
    "collapsed": true
   },
   "outputs": [],
   "source": [
    "df_wp = pd.DataFrame(data=wp_table,index=I,columns=C)"
   ]
  },
  {
   "cell_type": "code",
   "execution_count": 7,
   "metadata": {
    "collapsed": true
   },
   "outputs": [],
   "source": [
    "df_F = pd.DataFrame(index=I,columns=C)"
   ]
  },
  {
   "cell_type": "code",
   "execution_count": 12,
   "metadata": {},
   "outputs": [],
   "source": [
    "h=3\n",
    "def fos(wg, wp, D):\n",
    "    return (( S*(wg*.64+(wp/h)*.36)*wp**2 )/(wp**2+ wg**2)/1e6 )\n",
    "    \n",
    "for index, rows in df_wp.iterrows():\n",
    "    D = index\n",
    "    for i in range(rows.size):\n",
    "        wg = rows.index[i]\n",
    "        wp = df_wp.get_value(D,wg)\n",
    "        df_F.set_value(D,wg,fos(wg,wp,D))"
   ]
  },
  {
   "cell_type": "code",
   "execution_count": 13,
   "metadata": {},
   "outputs": [
    {
     "data": {
      "text/plain": [
       "5.0245476959561755"
      ]
     },
     "execution_count": 13,
     "metadata": {},
     "output_type": "execute_result"
    }
   ],
   "source": [
    "df_F.mean().mean()"
   ]
  },
  {
   "cell_type": "code",
   "execution_count": 14,
   "metadata": {},
   "outputs": [
    {
     "data": {
      "text/html": [
       "<div>\n",
       "<table border=\"1\" class=\"dataframe\">\n",
       "  <thead>\n",
       "    <tr style=\"text-align: right;\">\n",
       "      <th>columns</th>\n",
       "      <th>3.0</th>\n",
       "      <th>3.6</th>\n",
       "      <th>4.2</th>\n",
       "      <th>4.8</th>\n",
       "    </tr>\n",
       "    <tr>\n",
       "      <th>rows</th>\n",
       "      <th></th>\n",
       "      <th></th>\n",
       "      <th></th>\n",
       "      <th></th>\n",
       "    </tr>\n",
       "  </thead>\n",
       "  <tbody>\n",
       "    <tr>\n",
       "      <th>60</th>\n",
       "      <td>2.83125</td>\n",
       "      <td>3.47419</td>\n",
       "      <td>4.11629</td>\n",
       "      <td>4.56854</td>\n",
       "    </tr>\n",
       "    <tr>\n",
       "      <th>75</th>\n",
       "      <td>3.02021</td>\n",
       "      <td>3.66117</td>\n",
       "      <td>4.30199</td>\n",
       "      <td>4.75793</td>\n",
       "    </tr>\n",
       "    <tr>\n",
       "      <th>120</th>\n",
       "      <td>3.37993</td>\n",
       "      <td>4.02073</td>\n",
       "      <td>4.66144</td>\n",
       "      <td>5.3021</td>\n",
       "    </tr>\n",
       "    <tr>\n",
       "      <th>195</th>\n",
       "      <td>4.06403</td>\n",
       "      <td>4.70853</td>\n",
       "      <td>5.52141</td>\n",
       "      <td>6.33427</td>\n",
       "    </tr>\n",
       "    <tr>\n",
       "      <th>300</th>\n",
       "      <td>4.7285</td>\n",
       "      <td>5.70716</td>\n",
       "      <td>6.52093</td>\n",
       "      <td>7.49963</td>\n",
       "    </tr>\n",
       "    <tr>\n",
       "      <th>360</th>\n",
       "      <td>5.87421</td>\n",
       "      <td>6.52711</td>\n",
       "      <td>7.17863</td>\n",
       "      <td>7.82898</td>\n",
       "    </tr>\n",
       "  </tbody>\n",
       "</table>\n",
       "</div>"
      ],
      "text/plain": [
       "columns      3.0      3.6      4.2      4.8\n",
       "rows                                       \n",
       "60       2.83125  3.47419  4.11629  4.56854\n",
       "75       3.02021  3.66117  4.30199  4.75793\n",
       "120      3.37993  4.02073  4.66144   5.3021\n",
       "195      4.06403  4.70853  5.52141  6.33427\n",
       "300       4.7285  5.70716  6.52093  7.49963\n",
       "360      5.87421  6.52711  7.17863  7.82898"
      ]
     },
     "execution_count": 14,
     "metadata": {},
     "output_type": "execute_result"
    }
   ],
   "source": [
    "df_F"
   ]
  },
  {
   "cell_type": "code",
   "execution_count": 15,
   "metadata": {
    "collapsed": true
   },
   "outputs": [],
   "source": [
    "import matplotlib.pyplot as plt"
   ]
  },
  {
   "cell_type": "code",
   "execution_count": 16,
   "metadata": {
    "collapsed": true
   },
   "outputs": [],
   "source": [
    "from mpl_toolkits.mplot3d import Axes3D as a3"
   ]
  },
  {
   "cell_type": "code",
   "execution_count": 17,
   "metadata": {},
   "outputs": [
    {
     "data": {
      "text/plain": [
       "mpl_toolkits.mplot3d.axes3d.Axes3D"
      ]
     },
     "execution_count": 17,
     "metadata": {},
     "output_type": "execute_result"
    }
   ],
   "source": [
    "a3"
   ]
  },
  {
   "cell_type": "code",
   "execution_count": 22,
   "metadata": {},
   "outputs": [
    {
     "data": {
      "text/plain": [
       "Float64Index([3.0, 3.6, 4.2, 4.8], dtype='float64', name=u'columns')"
      ]
     },
     "execution_count": 22,
     "metadata": {},
     "output_type": "execute_result"
    }
   ],
   "source": [
    "df_F.columns"
   ]
  },
  {
   "cell_type": "code",
   "execution_count": 23,
   "metadata": {},
   "outputs": [
    {
     "data": {
      "text/plain": [
       "Float64Index([60.0, 75.0, 120.0, 195.0, 300.0, 360.0], dtype='float64', name=u'rows')"
      ]
     },
     "execution_count": 23,
     "metadata": {},
     "output_type": "execute_result"
    }
   ],
   "source": [
    "df_F.index"
   ]
  },
  {
   "cell_type": "code",
   "execution_count": 24,
   "metadata": {
    "collapsed": true
   },
   "outputs": [],
   "source": [
    "x = df_F.columns\n",
    "y = df_F.index\n",
    "X,Y = np.meshgrid(x,y)\n",
    "Z = df_F"
   ]
  },
  {
   "cell_type": "code",
   "execution_count": 40,
   "metadata": {},
   "outputs": [
    {
     "data": {
      "image/png": "[encoded data removed]",
      "text/plain": [
       "<matplotlib.figure.Figure at 0x7f29c9430a90>"
      ]
     },
     "metadata": {},
     "output_type": "display_data"
    }
   ],
   "source": [
    "from matplotlib import cm\n",
    "fig = plt.figure()\n",
    "ax = a3(fig)\n",
    "surf = ax.plot_surface(X, Y, Z, rstride=1, cstride=1, cmap=cm.coolwarm,\n",
    "                       linewidth=0, antialiased=False)\n",
    "fig.colorbar(surf, shrink=0.5, aspect=5)\n",
    "plt.title('Factor of Safety')\n",
    "plt.xlabel('Gallery Width')\n",
    "plt.ylabel('Ore Depth')\n",
    "plt.show()"
   ]
  },
  {
   "cell_type": "code",
   "execution_count": 41,
   "metadata": {
    "collapsed": true
   },
   "outputs": [],
   "source": [
    "plt.clf()"
   ]
  },
  {
   "cell_type": "code",
   "execution_count": 60,
   "metadata": {},
   "outputs": [
    {
     "data": {
      "text/plain": [
       "<matplotlib.table.Table at 0x7f29c95a5fd0>"
      ]
     },
     "execution_count": 60,
     "metadata": {},
     "output_type": "execute_result"
    }
   ],
   "source": [
    "from pandas.tools.plotting import table\n",
    "\n",
    "ax = plt.subplot(212, frame_on=False) \n",
    "ax.xaxis.set_visible(False)  # hide the x axis\n",
    "ax.yaxis.set_visible(False)  # hide the y axis\n",
    "ax1 = plt.subplot(211, frame_on=False) \n",
    "ax1.xaxis.set_visible(False)  # hide the x axis\n",
    "ax1.yaxis.set_visible(False)  # hide the y axis\n",
    "table(ax,df_F)\n",
    "table(ax1,df_wp)"
   ]
  },
  {
   "cell_type": "code",
   "execution_count": 61,
   "metadata": {},
   "outputs": [
    {
     "data": {
      "image/png": "[encoded data removed]",
      "text/plain": [
       "<matplotlib.figure.Figure at 0x7f29c9b0a090>"
      ]
     },
     "metadata": {},
     "output_type": "display_data"
    }
   ],
   "source": [
    "plt.show()"
   ]
  },
  {
   "cell_type": "code",
   "execution_count": null,
   "metadata": {
    "collapsed": true
   },
   "outputs": [],
   "source": []
  }
 ],
 "metadata": {
  "kernelspec": {
   "display_name": "Python 2",
   "language": "python",
   "name": "python2"
  },
  "language_info": {
   "codemirror_mode": {
    "name": "ipython",
    "version": 2
   },
   "file_extension": ".py",
   "mimetype": "text/x-python",
   "name": "python",
   "nbconvert_exporter": "python",
   "pygments_lexer": "ipython2",
   "version": "2.7.6"
  }
 },
 "nbformat": 4,
 "nbformat_minor": 2
}
